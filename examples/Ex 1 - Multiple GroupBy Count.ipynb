{
 "cells": [
  {
   "cell_type": "code",
   "execution_count": 4,
   "metadata": {},
   "outputs": [
    {
     "name": "stdout",
     "output_type": "stream",
     "text": [
      "   gender  survived\n",
      "0    male      True\n",
      "1  female     False\n",
      "2  female      True\n",
      "3    male      True\n"
     ]
    }
   ],
   "source": [
    "import pandas as pd\n",
    "\n",
    "list_items = pd.DataFrame({'gender': ['male', 'female', 'female', 'male'], \n",
    "                           'survived' : [True, False, True, True]})\n",
    "\n",
    "print(list_items)"
   ]
  },
  {
   "cell_type": "code",
   "execution_count": 2,
   "metadata": {},
   "outputs": [
    {
     "name": "stdout",
     "output_type": "stream",
     "text": [
      "gender  survived\n",
      "female  False       1\n",
      "        True        1\n",
      "male    True        2\n",
      "dtype: int64\n"
     ]
    }
   ],
   "source": [
    "#Method 1.\n",
    "print(list_items.groupby(['gender','survived']).size())"
   ]
  },
  {
   "cell_type": "code",
   "execution_count": 3,
   "metadata": {},
   "outputs": [
    {
     "name": "stdout",
     "output_type": "stream",
     "text": [
      "   gender  survived\n",
      "0  female         1\n",
      "1    male         2\n"
     ]
    }
   ],
   "source": [
    "#Method 2. set to True\n",
    "print(list_items[list_items['survived'] == True].groupby('gender').agg('count').reset_index())"
   ]
  },
  {
   "cell_type": "code",
   "execution_count": null,
   "metadata": {
    "collapsed": true
   },
   "outputs": [],
   "source": []
  }
 ],
 "metadata": {
  "kernelspec": {
   "display_name": "Python 3",
   "language": "python",
   "name": "python3"
  },
  "language_info": {
   "codemirror_mode": {
    "name": "ipython",
    "version": 3
   },
   "file_extension": ".py",
   "mimetype": "text/x-python",
   "name": "python",
   "nbconvert_exporter": "python",
   "pygments_lexer": "ipython3",
   "version": "3.6.3"
  }
 },
 "nbformat": 4,
 "nbformat_minor": 2
}
