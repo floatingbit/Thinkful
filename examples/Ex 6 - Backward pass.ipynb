{
 "cells": [
  {
   "cell_type": "code",
   "execution_count": 1,
   "metadata": {},
   "outputs": [],
   "source": [
    "import pandas as pd\n",
    "import numpy as np"
   ]
  },
  {
   "cell_type": "code",
   "execution_count": 2,
   "metadata": {},
   "outputs": [],
   "source": [
    "df = pd.DataFrame(np.random.rand(20, 6), columns=['A', 'B', 'C', 'D', 'E', 'F'])"
   ]
  },
  {
   "cell_type": "code",
   "execution_count": 3,
   "metadata": {},
   "outputs": [
    {
     "data": {
      "text/html": [
       "<div>\n",
       "<style>\n",
       "    .dataframe thead tr:only-child th {\n",
       "        text-align: right;\n",
       "    }\n",
       "\n",
       "    .dataframe thead th {\n",
       "        text-align: left;\n",
       "    }\n",
       "\n",
       "    .dataframe tbody tr th {\n",
       "        vertical-align: top;\n",
       "    }\n",
       "</style>\n",
       "<table border=\"1\" class=\"dataframe\">\n",
       "  <thead>\n",
       "    <tr style=\"text-align: right;\">\n",
       "      <th></th>\n",
       "      <th>A</th>\n",
       "      <th>B</th>\n",
       "      <th>C</th>\n",
       "      <th>D</th>\n",
       "      <th>E</th>\n",
       "      <th>F</th>\n",
       "    </tr>\n",
       "  </thead>\n",
       "  <tbody>\n",
       "    <tr>\n",
       "      <th>0</th>\n",
       "      <td>0.232737</td>\n",
       "      <td>0.357331</td>\n",
       "      <td>0.902529</td>\n",
       "      <td>0.533351</td>\n",
       "      <td>0.075293</td>\n",
       "      <td>0.964116</td>\n",
       "    </tr>\n",
       "    <tr>\n",
       "      <th>1</th>\n",
       "      <td>0.579279</td>\n",
       "      <td>0.454150</td>\n",
       "      <td>0.609168</td>\n",
       "      <td>0.929439</td>\n",
       "      <td>0.150631</td>\n",
       "      <td>0.001983</td>\n",
       "    </tr>\n",
       "    <tr>\n",
       "      <th>2</th>\n",
       "      <td>0.041330</td>\n",
       "      <td>0.368658</td>\n",
       "      <td>0.197692</td>\n",
       "      <td>0.055799</td>\n",
       "      <td>0.829184</td>\n",
       "      <td>0.637629</td>\n",
       "    </tr>\n",
       "    <tr>\n",
       "      <th>3</th>\n",
       "      <td>0.301643</td>\n",
       "      <td>0.106785</td>\n",
       "      <td>0.473802</td>\n",
       "      <td>0.455012</td>\n",
       "      <td>0.273389</td>\n",
       "      <td>0.739678</td>\n",
       "    </tr>\n",
       "    <tr>\n",
       "      <th>4</th>\n",
       "      <td>0.772760</td>\n",
       "      <td>0.013882</td>\n",
       "      <td>0.393415</td>\n",
       "      <td>0.484159</td>\n",
       "      <td>0.965460</td>\n",
       "      <td>0.798322</td>\n",
       "    </tr>\n",
       "  </tbody>\n",
       "</table>\n",
       "</div>"
      ],
      "text/plain": [
       "          A         B         C         D         E         F\n",
       "0  0.232737  0.357331  0.902529  0.533351  0.075293  0.964116\n",
       "1  0.579279  0.454150  0.609168  0.929439  0.150631  0.001983\n",
       "2  0.041330  0.368658  0.197692  0.055799  0.829184  0.637629\n",
       "3  0.301643  0.106785  0.473802  0.455012  0.273389  0.739678\n",
       "4  0.772760  0.013882  0.393415  0.484159  0.965460  0.798322"
      ]
     },
     "execution_count": 3,
     "metadata": {},
     "output_type": "execute_result"
    }
   ],
   "source": [
    "df.head()"
   ]
  },
  {
   "cell_type": "markdown",
   "metadata": {},
   "source": [
    "### Dropping one column at a time"
   ]
  },
  {
   "cell_type": "code",
   "execution_count": 4,
   "metadata": {},
   "outputs": [
    {
     "name": "stdout",
     "output_type": "stream",
     "text": [
      "          B         C         D         E         F\n",
      "0  0.357331  0.902529  0.533351  0.075293  0.964116\n",
      "1  0.454150  0.609168  0.929439  0.150631  0.001983\n",
      "2  0.368658  0.197692  0.055799  0.829184  0.637629\n",
      "3  0.106785  0.473802  0.455012  0.273389  0.739678\n",
      "4  0.013882  0.393415  0.484159  0.965460  0.798322\n",
      "          C         D         E         F\n",
      "0  0.902529  0.533351  0.075293  0.964116\n",
      "1  0.609168  0.929439  0.150631  0.001983\n",
      "2  0.197692  0.055799  0.829184  0.637629\n",
      "3  0.473802  0.455012  0.273389  0.739678\n",
      "4  0.393415  0.484159  0.965460  0.798322\n",
      "          D         E         F\n",
      "0  0.533351  0.075293  0.964116\n",
      "1  0.929439  0.150631  0.001983\n",
      "2  0.055799  0.829184  0.637629\n",
      "3  0.455012  0.273389  0.739678\n",
      "4  0.484159  0.965460  0.798322\n",
      "          E         F\n",
      "0  0.075293  0.964116\n",
      "1  0.150631  0.001983\n",
      "2  0.829184  0.637629\n",
      "3  0.273389  0.739678\n",
      "4  0.965460  0.798322\n",
      "          F\n",
      "0  0.964116\n",
      "1  0.001983\n",
      "2  0.637629\n",
      "3  0.739678\n",
      "4  0.798322\n",
      "Empty DataFrame\n",
      "Columns: []\n",
      "Index: [0, 1, 2, 3, 4]\n"
     ]
    }
   ],
   "source": [
    "for i in range(len(df.columns)):\n",
    "    df = df.drop(df.columns[0], axis = 1)\n",
    "    print(df.head())\n",
    "           \n",
    "    #Train model here"
   ]
  },
  {
   "cell_type": "markdown",
   "metadata": {},
   "source": [
    "### Dropping one column and leaving the rest and compare to baseline"
   ]
  },
  {
   "cell_type": "code",
   "execution_count": 5,
   "metadata": {},
   "outputs": [
    {
     "name": "stdout",
     "output_type": "stream",
     "text": [
      "          B         C         D         E         F\n",
      "0  0.076322  0.621500  0.045833  0.862746  0.237298\n",
      "1  0.448092  0.000131  0.478898  0.372308  0.483163\n",
      "2  0.656294  0.366701  0.153566  0.161818  0.251808\n",
      "3  0.478767  0.071037  0.163038  0.796614  0.746301\n",
      "4  0.501680  0.743245  0.916799  0.249083  0.502985\n",
      "          A         C         D         E         F\n",
      "0  0.578294  0.621500  0.045833  0.862746  0.237298\n",
      "1  0.100943  0.000131  0.478898  0.372308  0.483163\n",
      "2  0.129281  0.366701  0.153566  0.161818  0.251808\n",
      "3  0.426352  0.071037  0.163038  0.796614  0.746301\n",
      "4  0.411954  0.743245  0.916799  0.249083  0.502985\n",
      "          A         B         D         E         F\n",
      "0  0.578294  0.076322  0.045833  0.862746  0.237298\n",
      "1  0.100943  0.448092  0.478898  0.372308  0.483163\n",
      "2  0.129281  0.656294  0.153566  0.161818  0.251808\n",
      "3  0.426352  0.478767  0.163038  0.796614  0.746301\n",
      "4  0.411954  0.501680  0.916799  0.249083  0.502985\n",
      "          A         B         C         E         F\n",
      "0  0.578294  0.076322  0.621500  0.862746  0.237298\n",
      "1  0.100943  0.448092  0.000131  0.372308  0.483163\n",
      "2  0.129281  0.656294  0.366701  0.161818  0.251808\n",
      "3  0.426352  0.478767  0.071037  0.796614  0.746301\n",
      "4  0.411954  0.501680  0.743245  0.249083  0.502985\n",
      "          A         B         C         D         F\n",
      "0  0.578294  0.076322  0.621500  0.045833  0.237298\n",
      "1  0.100943  0.448092  0.000131  0.478898  0.483163\n",
      "2  0.129281  0.656294  0.366701  0.153566  0.251808\n",
      "3  0.426352  0.478767  0.071037  0.163038  0.746301\n",
      "4  0.411954  0.501680  0.743245  0.916799  0.502985\n",
      "          A         B         C         D         E\n",
      "0  0.578294  0.076322  0.621500  0.045833  0.862746\n",
      "1  0.100943  0.448092  0.000131  0.478898  0.372308\n",
      "2  0.129281  0.656294  0.366701  0.153566  0.161818\n",
      "3  0.426352  0.478767  0.071037  0.163038  0.796614\n",
      "4  0.411954  0.501680  0.743245  0.916799  0.249083\n"
     ]
    }
   ],
   "source": [
    "df = pd.DataFrame(np.random.rand(20, 6), columns=['A', 'B', 'C', 'D', 'E', 'F'])\n",
    "\n",
    "for i in range(len(df.columns)):\n",
    "    df_first_slice = pd.DataFrame(df.iloc[:, 0:i])\n",
    "    df_second_slice = pd.DataFrame(df.iloc[:, (i+1):len(df.columns)])\n",
    "    df_subset = pd.concat([df_first_slice, df_second_slice], axis=1)\n",
    "    \n",
    "    print(df_subset.head())\n",
    "                          \n",
    "    #Train model here"
   ]
  }
 ],
 "metadata": {
  "kernelspec": {
   "display_name": "Python 3",
   "language": "python",
   "name": "python3"
  },
  "language_info": {
   "codemirror_mode": {
    "name": "ipython",
    "version": 3
   },
   "file_extension": ".py",
   "mimetype": "text/x-python",
   "name": "python",
   "nbconvert_exporter": "python",
   "pygments_lexer": "ipython3",
   "version": "3.6.3"
  }
 },
 "nbformat": 4,
 "nbformat_minor": 2
}
