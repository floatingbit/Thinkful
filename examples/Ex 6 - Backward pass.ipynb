{
 "cells": [
  {
   "cell_type": "code",
   "execution_count": 2,
   "metadata": {},
   "outputs": [],
   "source": [
    "import pandas as pd\n",
    "import numpy as np"
   ]
  },
  {
   "cell_type": "code",
   "execution_count": 4,
   "metadata": {},
   "outputs": [],
   "source": [
    "df = pd.DataFrame(np.random.rand(20, 6), columns=['A', 'B', 'C', 'D', 'E', 'F'])"
   ]
  },
  {
   "cell_type": "code",
   "execution_count": 5,
   "metadata": {},
   "outputs": [
    {
     "data": {
      "text/html": [
       "<div>\n",
       "<style>\n",
       "    .dataframe thead tr:only-child th {\n",
       "        text-align: right;\n",
       "    }\n",
       "\n",
       "    .dataframe thead th {\n",
       "        text-align: left;\n",
       "    }\n",
       "\n",
       "    .dataframe tbody tr th {\n",
       "        vertical-align: top;\n",
       "    }\n",
       "</style>\n",
       "<table border=\"1\" class=\"dataframe\">\n",
       "  <thead>\n",
       "    <tr style=\"text-align: right;\">\n",
       "      <th></th>\n",
       "      <th>A</th>\n",
       "      <th>B</th>\n",
       "      <th>C</th>\n",
       "      <th>D</th>\n",
       "      <th>E</th>\n",
       "      <th>F</th>\n",
       "    </tr>\n",
       "  </thead>\n",
       "  <tbody>\n",
       "    <tr>\n",
       "      <th>0</th>\n",
       "      <td>0.780637</td>\n",
       "      <td>0.788495</td>\n",
       "      <td>0.113236</td>\n",
       "      <td>0.362634</td>\n",
       "      <td>0.647907</td>\n",
       "      <td>0.027342</td>\n",
       "    </tr>\n",
       "    <tr>\n",
       "      <th>1</th>\n",
       "      <td>0.876445</td>\n",
       "      <td>0.283127</td>\n",
       "      <td>0.269010</td>\n",
       "      <td>0.349341</td>\n",
       "      <td>0.504621</td>\n",
       "      <td>0.926005</td>\n",
       "    </tr>\n",
       "    <tr>\n",
       "      <th>2</th>\n",
       "      <td>0.503063</td>\n",
       "      <td>0.187670</td>\n",
       "      <td>0.357794</td>\n",
       "      <td>0.937608</td>\n",
       "      <td>0.518110</td>\n",
       "      <td>0.214656</td>\n",
       "    </tr>\n",
       "    <tr>\n",
       "      <th>3</th>\n",
       "      <td>0.468016</td>\n",
       "      <td>0.518237</td>\n",
       "      <td>0.156577</td>\n",
       "      <td>0.405439</td>\n",
       "      <td>0.452699</td>\n",
       "      <td>0.637553</td>\n",
       "    </tr>\n",
       "    <tr>\n",
       "      <th>4</th>\n",
       "      <td>0.893198</td>\n",
       "      <td>0.759345</td>\n",
       "      <td>0.471876</td>\n",
       "      <td>0.542194</td>\n",
       "      <td>0.374493</td>\n",
       "      <td>0.874055</td>\n",
       "    </tr>\n",
       "  </tbody>\n",
       "</table>\n",
       "</div>"
      ],
      "text/plain": [
       "          A         B         C         D         E         F\n",
       "0  0.780637  0.788495  0.113236  0.362634  0.647907  0.027342\n",
       "1  0.876445  0.283127  0.269010  0.349341  0.504621  0.926005\n",
       "2  0.503063  0.187670  0.357794  0.937608  0.518110  0.214656\n",
       "3  0.468016  0.518237  0.156577  0.405439  0.452699  0.637553\n",
       "4  0.893198  0.759345  0.471876  0.542194  0.374493  0.874055"
      ]
     },
     "execution_count": 5,
     "metadata": {},
     "output_type": "execute_result"
    }
   ],
   "source": [
    "df.head()"
   ]
  },
  {
   "cell_type": "code",
   "execution_count": 25,
   "metadata": {},
   "outputs": [
    {
     "name": "stdout",
     "output_type": "stream",
     "text": [
      "          B         C         D         E         F\n",
      "0  0.788495  0.113236  0.362634  0.647907  0.027342\n",
      "1  0.283127  0.269010  0.349341  0.504621  0.926005\n",
      "2  0.187670  0.357794  0.937608  0.518110  0.214656\n",
      "3  0.518237  0.156577  0.405439  0.452699  0.637553\n",
      "4  0.759345  0.471876  0.542194  0.374493  0.874055\n",
      "          A         C         D         E         F\n",
      "0  0.780637  0.113236  0.362634  0.647907  0.027342\n",
      "1  0.876445  0.269010  0.349341  0.504621  0.926005\n",
      "2  0.503063  0.357794  0.937608  0.518110  0.214656\n",
      "3  0.468016  0.156577  0.405439  0.452699  0.637553\n",
      "4  0.893198  0.471876  0.542194  0.374493  0.874055\n",
      "          A         B         D         E         F\n",
      "0  0.780637  0.788495  0.362634  0.647907  0.027342\n",
      "1  0.876445  0.283127  0.349341  0.504621  0.926005\n",
      "2  0.503063  0.187670  0.937608  0.518110  0.214656\n",
      "3  0.468016  0.518237  0.405439  0.452699  0.637553\n",
      "4  0.893198  0.759345  0.542194  0.374493  0.874055\n",
      "          A         B         C         E         F\n",
      "0  0.780637  0.788495  0.113236  0.647907  0.027342\n",
      "1  0.876445  0.283127  0.269010  0.504621  0.926005\n",
      "2  0.503063  0.187670  0.357794  0.518110  0.214656\n",
      "3  0.468016  0.518237  0.156577  0.452699  0.637553\n",
      "4  0.893198  0.759345  0.471876  0.374493  0.874055\n",
      "          A         B         C         D         F\n",
      "0  0.780637  0.788495  0.113236  0.362634  0.027342\n",
      "1  0.876445  0.283127  0.269010  0.349341  0.926005\n",
      "2  0.503063  0.187670  0.357794  0.937608  0.214656\n",
      "3  0.468016  0.518237  0.156577  0.405439  0.637553\n",
      "4  0.893198  0.759345  0.471876  0.542194  0.874055\n",
      "          A         B         C         D         E\n",
      "0  0.780637  0.788495  0.113236  0.362634  0.647907\n",
      "1  0.876445  0.283127  0.269010  0.349341  0.504621\n",
      "2  0.503063  0.187670  0.357794  0.937608  0.518110\n",
      "3  0.468016  0.518237  0.156577  0.405439  0.452699\n",
      "4  0.893198  0.759345  0.471876  0.542194  0.374493\n"
     ]
    }
   ],
   "source": [
    "for i in range(len(df.columns)):\n",
    "    df_first_slice = pd.DataFrame(df.iloc[:, 0:i])\n",
    "    df_second_slice = pd.DataFrame(df.iloc[:, (i+1):len(df.columns)])\n",
    "    df_subset = pd.concat([df_first_slice, df_second_slice], axis=1\n",
    "    \n",
    "    print(df_subset.head())\n",
    "                          \n",
    "    #Train model here"
   ]
  }
 ],
 "metadata": {
  "kernelspec": {
   "display_name": "Python 3",
   "language": "python",
   "name": "python3"
  },
  "language_info": {
   "codemirror_mode": {
    "name": "ipython",
    "version": 3
   },
   "file_extension": ".py",
   "mimetype": "text/x-python",
   "name": "python",
   "nbconvert_exporter": "python",
   "pygments_lexer": "ipython3",
   "version": "3.6.3"
  }
 },
 "nbformat": 4,
 "nbformat_minor": 2
}
